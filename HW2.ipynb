{
 "cells": [
  {
   "cell_type": "code",
   "execution_count": null,
   "metadata": {},
   "outputs": [],
   "source": [
    "import numpy as np\n",
    "import torch\n",
    "from torchvision.utils import make_grid\n",
    "import matplotlib.pyplot as plt\n",
    "import random\n",
    "import math\n",
    "import os\n",
    "\n",
    "from torch.autograd import Variable\n",
    "from IPython.display import clear_output\n",
    "from matplotlib import collections  as mc\n",
    "\n",
    "import os\n",
    "from PIL import Image\n",
    "from IPython.display import Image as Img\n",
    "from IPython.display import display\n",
    "from utils import relation_loader, map_score\n",
    "\n",
    "# you need to install this package by following command\n",
    "# pip install treelib\n",
    "from treelib import Node, Tree\n",
    "\n",
    "\n",
    "seed = 1\n",
    "random.seed(seed)\n",
    "os.environ['PYTHONHASHSEED'] = str(seed)\n",
    "np.random.seed(seed)\n",
    "torch.manual_seed(seed)\n",
    "torch.cuda.manual_seed(seed)"
   ]
  },
  {
   "cell_type": "markdown",
   "metadata": {},
   "source": [
    "- In this exercise, you will derive the Riemannian metric of poincaré ball.\n",
    "- You will investigate why poincaré ball has advantages for embbeding tree-structured data."
   ]
  },
  {
   "cell_type": "markdown",
   "metadata": {},
   "source": [
    "Let $\\mathbb{H}^n = \\{(x,z)\\in\\mathbb{R}^{n,1}|z>0, (x^1)^2 + \\cdots + (x^n)^2 - z^2 = -1\\}$ be a **hyperbolic space** of dimension $n$.\n",
    "\n",
    "$\\mathbb{H}^n$ is a pseudometric space with pseudo metric \n",
    "$H = \\left[\\begin{array}{cc} \n",
    "I_{n\\times n} & 0\\\\\n",
    "0 & -1\n",
    "\\end{array}\\right]$\\.\\\n",
    "Also, let $\\mathbb{B}^n = \\{x\\in\\mathbb{R}^{n}|\\| x\\| < 1\\}$ be the **Poincaré ball**, an $n$-dimensional Riemannian manifold equipped with the Riemannian metric $G(x) = \\frac{4}{(1-\\|x\\|^2)^2}I_{n\\times n}$.\\\n",
    "\n"
   ]
  },
  {
   "cell_type": "markdown",
   "metadata": {},
   "source": [
    "In reinforcement frameworks, state variables are often considered as having hierarchical structure (tree-structure), \n",
    "since the state variable at time $t$ is affected by the state value at time $t-1$.\n",
    "\n",
    "[<img src=\"figures/state_tree.png\" width=\"500\"/>](figures/state_tree.png)\n",
    "\n",
    "(reference paper: Cetin, Edoardo, et al. \"Hyperbolic deep reinforcement learning.\" arXiv preprint arXiv:2210.01542 (2022) https://openreview.net/forum?id=TfBHFLgv77)\n",
    "\n",
    "Throughout this programming exercise, we will learn about the hyperbolic space\n",
    "and verify that this hyperbolic space is suitable for embedding tree-structured data."
   ]
  },
  {
   "cell_type": "markdown",
   "metadata": {},
   "source": [
    "(a) We learned there exists an isometry between $\\mathbb{H}^n$ and $\\mathbb{B}^n$, which can be visualized as belows if $n=2$.\n",
    "\n",
    "![Poincare disk for n=2](figures/poincare_disk.png) \n",
    "\n",
    "Write the code for the isometric mapping $g: \\mathbb{B}^n \\rightarrow \\mathbb{H}^n$, i.e., design a python function $x\\in\\mathbb{B}^n \\mapsto g(x)\\in\\mathbb{H}^n$.\n"
   ]
  },
  {
   "cell_type": "markdown",
   "metadata": {},
   "source": [
    "(a) Write the code for the isometric mapping from $\\mathbb{B}^n$ to $\\mathbb{H}^n$."
   ]
  },
  {
   "cell_type": "code",
   "execution_count": null,
   "metadata": {},
   "outputs": [],
   "source": [
    "def B2H(x):\n",
    "    '''\n",
    "    A map from B^n to H^n\n",
    "    x:      torch.tensor whose size = (b, n)\n",
    "    out:    torch.tensor whose size = (b, n + 1)\n",
    "    '''\n",
    "    ##############################################\n",
    "    ############### YOUR CODE HERE ###############\n",
    "    ##############################################\n",
    "    out = None\n",
    "    return out"
   ]
  },
  {
   "cell_type": "markdown",
   "metadata": {},
   "source": [
    "Now, you are going to visualize hyperbolic space by sampling from $\\mathbb{B}^2$ and map them to $\\mathbb{H}^2$."
   ]
  },
  {
   "cell_type": "code",
   "execution_count": null,
   "metadata": {},
   "outputs": [],
   "source": [
    "random_points_in_B = torch.rand(1000,2) - 0.5\n",
    "random_points_in_H = B2H(random_points_in_B)\n",
    "fig = plt.figure()\n",
    "ax = fig.add_subplot(projection='3d')\n",
    "xs = random_points_in_H[:,0]\n",
    "ys = random_points_in_H[:,1]\n",
    "zs = random_points_in_H[:,2]\n",
    "ax.scatter(xs, ys, zs)\n",
    "ax.set_xlabel('X')\n",
    "ax.set_ylabel('Y')\n",
    "ax.set_zlabel('Z')\n",
    "plt.title(\"points in hyperbolic space\")\n",
    "plt.show()"
   ]
  },
  {
   "cell_type": "markdown",
   "metadata": {},
   "source": [
    "(b) Assume that the metric of $\\mathbb{H}^n$ is given as an arbitrary pseudo metric matrix $H \\in \\mathbb{R}^{(n+1) \\times (n+1)}$. \n",
    "\n",
    "Write the code for computing the Riemannian metric of $\\mathbb{B}^n$ so that the map B2H (i.e., the map $g$) becomes an isometry.\n",
    "\n",
    "- You should implement the below function based on the analytic expression of the Jacobian (DO NOT USE PYTORCH AUTOGRAD).\n",
    "- Assume that $H$ is constant."
   ]
  },
  {
   "cell_type": "code",
   "execution_count": null,
   "metadata": {},
   "outputs": [],
   "source": [
    "def get_Riemannian_metric_of_B2H(x, H):\n",
    "    '''\n",
    "    x:      torch.tensor whose size = (b, n)\n",
    "    H:      torch.tensor whose size = (n+1, n+1)\n",
    "    out:    torch.tensor whose size = (b, n, n)\n",
    "    '''\n",
    "    ##############################################\n",
    "    ############### YOUR CODE HERE ###############\n",
    "    ##############################################\n",
    "    out = None\n",
    "    return out"
   ]
  },
  {
   "cell_type": "markdown",
   "metadata": {},
   "source": [
    "- Your function \"get_Riemannian_metric\" should pass the below test code."
   ]
  },
  {
   "cell_type": "code",
   "execution_count": null,
   "metadata": {},
   "outputs": [],
   "source": [
    "H = torch.eye(3)\n",
    "G = get_Riemannian_metric_of_B2H(random_points_in_B, H)\n",
    "assert (G.size() == torch.Size([1000, 2, 2]))\n",
    "\n",
    "rand_v = torch.randn(1000, 2)\n",
    "assert torch.einsum('ni, nij, nj -> n', rand_v, G, rand_v).min().item() > 0\n",
    "\n",
    "def G_true(x):\n",
    "    return torch.eye(2).repeat(x.shape[0], 1, 1) * 4 / (((1 - torch.norm(x, dim=1) ** 2)) ** 2).unsqueeze(-1).unsqueeze(-1)\n",
    "\n",
    "H[2,2] = -1\n",
    "G = get_Riemannian_metric_of_B2H(random_points_in_B, H)\n",
    "assert (torch.norm(G - G_true(random_points_in_B)) < 1e-3)\n"
   ]
  },
  {
   "cell_type": "markdown",
   "metadata": {},
   "source": [
    "Visualize equidistant ellipses on $\\mathbb{B}^2$ where the Riemannian metric for $\\mathbb{B}^2$ is induced from the following two different metrics on $\\mathbb{H}^2$:\n",
    "- $H_1$ : Euclidean metric of $\\mathbb{R}^{3}$\n",
    "- $H_2$ : Riemannian pseudo metric of Hyperbolic space $\\mathbb{R}^{2,1}$"
   ]
  },
  {
   "cell_type": "code",
   "execution_count": null,
   "metadata": {},
   "outputs": [],
   "source": [
    "from utils import PD_metric_to_ellipse\n",
    "# points from B^2\n",
    "points = []\n",
    "for i in range(10):\n",
    "    for j in range(4):\n",
    "        theta = np.pi * 2 / 10 * i\n",
    "        radius = 0.3 + 0.2 * j\n",
    "        points.append([radius * np.cos(theta), radius * np.sin(theta)])\n",
    "points = torch.Tensor(points)\n",
    "\n",
    "# get riemannian metric\n",
    "H1 = torch.eye(3)\n",
    "H2 = torch.eye(3)\n",
    "H2[2,2] = -1\n",
    "G1 = get_Riemannian_metric_of_B2H(points, H1).cpu().numpy()\n",
    "G2 = get_Riemannian_metric_of_B2H(points, H2).cpu().numpy()\n",
    "\n",
    "# draw figures\n",
    "f = plt.figure(figsize=(14,7))\n",
    "plt.subplot(1,2,1)\n",
    "plt.title(\"G1 : H from Euclidean metric\")\n",
    "ax = plt.gca()\n",
    "for i, G in enumerate(G1):\n",
    "    e = PD_metric_to_ellipse(np.linalg.inv(G), points[i,:], 0.2, alpha = 0.3)\n",
    "    ax.add_artist(e)\n",
    "plt.scatter(points.cpu().numpy()[:,0], points.cpu().numpy()[:,1], marker = '.')\n",
    "circle = plt.Circle((0, 0), 1, color='b', fill=False)\n",
    "ax.add_patch(circle)\n",
    "ax.set_xlim((-1, 1))\n",
    "ax.set_ylim((-1, 1))\n",
    "plt.axis('equal')\n",
    "\n",
    "plt.subplot(1,2,2)\n",
    "plt.title(\"G2 : H from Hyperbolic metric\")\n",
    "ax = plt.gca()\n",
    "for i, G in enumerate(G2):\n",
    "    e = PD_metric_to_ellipse(np.linalg.inv(G), points[i,:], 0.2, alpha = 0.3)\n",
    "    ax.add_artist(e)\n",
    "plt.scatter(points.cpu().numpy()[:,0], points.cpu().numpy()[:,1], marker = '.')\n",
    "circle = plt.Circle((0, 0), 1, color='b', fill=False)\n",
    "ax.add_patch(circle)\n",
    "ax.set_xlim((-1, 1))\n",
    "ax.set_ylim((-1, 1))\n",
    "plt.axis('equal')\n",
    "plt.show()"
   ]
  },
  {
   "cell_type": "markdown",
   "metadata": {},
   "source": [
    "Q1) How can you interpret this result?"
   ]
  },
  {
   "cell_type": "markdown",
   "metadata": {},
   "source": [
    "A1) "
   ]
  },
  {
   "cell_type": "markdown",
   "metadata": {},
   "source": [
    "(c) Now, let $n=2$. Write down the code which calculates distances between pairs of points in $\\mathbb{B}^2$ with the Riemannian metric $\\frac{4}{(1-\\|x\\|^2)^2}I_{2\\times 2}$ (which is equivalent to the Riemannian metric induced from $H_2$).\n",
    "- Use the analytic expression learned in the class (do not numerically solve the geodesic equations)."
   ]
  },
  {
   "cell_type": "code",
   "execution_count": null,
   "metadata": {},
   "outputs": [],
   "source": [
    "def dist(u, v, mode):    \n",
    "    \"\"\"\n",
    "    u:      torch.tensor whose size = (b, 2) or (b1, b2, 2)\n",
    "    v:      torch.tensor whose size = (b, 2) or (b1, b2, 2)\n",
    "    out:    torch.tensor whose size = (b) or (b1, b2)\n",
    "    \"\"\"\n",
    "    if mode == \"Euclidean\":\n",
    "        return torch.norm(u - v, dim = -1)\n",
    "    if mode == \"Riemannian\":\n",
    "        ##############################################\n",
    "        ############### YOUR CODE HERE ###############\n",
    "        ##############################################\n",
    "        # you may need to use something like eps=1e-6 for numerical stability.\n",
    "        out = None\n",
    "        return out"
   ]
  },
  {
   "cell_type": "markdown",
   "metadata": {},
   "source": [
    "\n",
    "- Now, you will embed a tree-structured data into the two spaces, $\\mathbb{R}^2$ with metric $I_{2\\times 2}$ and $\\mathbb{B}^2$ with metric $\\frac{4}{(1-\\|x\\|^2)^2}I_{2\\times 2}$.\n",
    "- First, let's generate the tree-structured dataset.\n",
    "- Note that only connections between parent and child nodes are considered as related."
   ]
  },
  {
   "cell_type": "code",
   "execution_count": null,
   "metadata": {},
   "outputs": [],
   "source": [
    "tree_level_num = 4\n",
    "tree_branch_num = 4\n",
    "relations = []\n",
    "nodes = [[0]]\n",
    "index = 0\n",
    "tree = Tree()\n",
    "tree.create_node(\"0\", \"0\")\n",
    "for level in range(tree_level_num):\n",
    "    parent_nodes = nodes[-1]\n",
    "    child_nodes = []\n",
    "    for parent_node in parent_nodes:\n",
    "        for j in range(1, tree_branch_num + 1):\n",
    "            index += 1\n",
    "            child_nodes.append(index)\n",
    "            tree.create_node(str(index), str(index), parent=str(parent_node))\n",
    "            relations.append([parent_node, index])\n",
    "    nodes.append(child_nodes)\n",
    "tree.show()\n",
    "nodes_num = sum([len(node_group) for node_group in nodes])\n",
    "\n",
    "relation_graph = np.zeros([nodes_num, nodes_num])\n",
    "for relation in relations:\n",
    "    u = relation[0]\n",
    "    v = relation[1]\n",
    "    relation_graph[u, v] = 1\n",
    "    relation_graph[v, u] = 1\n",
    "\n",
    "negative_relations = []\n",
    "for relation in relations:\n",
    "    u = relation[0]\n",
    "    v = relation[1]\n",
    "    N_u = []\n",
    "    for v_new in range(nodes_num):\n",
    "        if [u,v_new] not in relations and [v_new,u] not in relations:\n",
    "            N_u.append([u,v_new])\n",
    "    for u_new in range(nodes_num):\n",
    "        if u_new != v:\n",
    "            if [u_new,v] not in relations and [v,u_new] not in relations:\n",
    "                N_u.append([u_new,v])\n",
    "    negative_relations.append(N_u)\n",
    "\n",
    "colors = []\n",
    "size = []\n",
    "for i in range(tree_level_num+1):\n",
    "    for j in range(len(nodes[i])):\n",
    "        colors.append(i)\n",
    "        size.append(10 * (tree_level_num - i + 1) ** 2)"
   ]
  },
  {
   "cell_type": "markdown",
   "metadata": {},
   "source": [
    "### Opimization on Riemannian manifold\n",
    "- we will use stochastic gradient descent method in Riemannian manifold.\n",
    "- SGD update rule for solving $\\min_x f(x)$ on Riemannian manifold $M$ with metric $G$ is\n",
    "    1. $x_{t+1} = x_t - \\alpha G^{-1}\\frac{\\partial f}{\\partial x}(x_t)$\n",
    "    2. $x_{t+1} = \\text{proj}_M(x_{t+1})$\n",
    "- where $\\text{proj}_M(x)$ is a projection function from ambient space to $M$."
   ]
  },
  {
   "cell_type": "markdown",
   "metadata": {},
   "source": [
    "- The projection function from $\\mathbb{R^2}$ to $\\mathbb{B^2}$ is as follows:  $\\text{proj}_{\\mathbb{B^2}}(x) = \\frac{x}{\\text{max}(\\parallel x \\parallel, 1-\\epsilon)+\\epsilon}$"
   ]
  },
  {
   "cell_type": "code",
   "execution_count": null,
   "metadata": {},
   "outputs": [],
   "source": [
    "def projection(x, eps=1e-3):\n",
    "    norm_of_x = torch.norm(x, dim=1)\n",
    "    new_norm = torch.max(norm_of_x, torch.ones_like(norm_of_x) - eps) + eps\n",
    "    return x/new_norm.unsqueeze(1)"
   ]
  },
  {
   "cell_type": "markdown",
   "metadata": {},
   "source": [
    "(d) Write down the code which perform the SGD in Riemannian manifold."
   ]
  },
  {
   "cell_type": "code",
   "execution_count": null,
   "metadata": {},
   "outputs": [],
   "source": [
    "def SGD_update(points, loader, criterion, mode, lr):\n",
    "    if mode == \"Euclidean\":\n",
    "        # copy and modify this code for your code\n",
    "        points = Variable(points, requires_grad=True)\n",
    "        pos_pairs, neg_pairs = loader.get_item(points)\n",
    "        loss = criterion(pos_pairs, neg_pairs, mode) # calculate loss function\n",
    "        loss.backward() # calculate gradient of the function\n",
    "        grad = points.grad.data # get gradient value\n",
    "        points = points.detach()\n",
    "        points = points - lr * grad.data # gradient descent\n",
    "        return points\n",
    "        \n",
    "    if mode == \"Riemannian\":\n",
    "        ##############################################\n",
    "        ############### YOUR CODE HERE ###############\n",
    "        ##############################################\n",
    "        pass"
   ]
  },
  {
   "cell_type": "markdown",
   "metadata": {},
   "source": [
    "- The function to be optimized is given as follows.\n",
    "- This function is motivated from the reference paper (but not exactly the same with that of the paper)."
   ]
  },
  {
   "cell_type": "code",
   "execution_count": null,
   "metadata": {},
   "outputs": [],
   "source": [
    "def criterion(pos_pairs, neg_pairs, mode):\n",
    "    pos = (dist(pos_pairs[:,0,:], pos_pairs[:,1,:], mode))**2 \n",
    "    neg = torch.log(torch.sum(torch.exp(-dist(neg_pairs[:,:,0,:], neg_pairs[:,:,1,:], mode)), dim = 1))\n",
    "    return torch.sum(pos + neg) "
   ]
  },
  {
   "cell_type": "markdown",
   "metadata": {},
   "source": [
    "- Now, Embed the dataset on $\\mathbb{B}^2$ and save the optimization progress as a gif file named \"hyperbolic.gif\"."
   ]
  },
  {
   "cell_type": "code",
   "execution_count": null,
   "metadata": {},
   "outputs": [],
   "source": [
    "points = np.random.rand(nodes_num, 2) * 0.001\n",
    "points = Variable(torch.tensor(points, dtype=torch.float32), requires_grad=True)\n",
    "loader = relation_loader(relations, negative_relations, neg_sample_num=10, batch_num=10)\n",
    "train_epoch = 1000\n",
    "lr_init = 0.01\n",
    "eta = 10.0\n",
    "mode = \"Riemannian\"\n",
    "if not os.path.exists('gif/hyperbolic'):\n",
    "    os.makedirs('gif/hyperbolic')"
   ]
  },
  {
   "cell_type": "code",
   "execution_count": null,
   "metadata": {},
   "outputs": [],
   "source": [
    "for epoch in range(train_epoch):\n",
    "    if epoch < 10 :\n",
    "        lr = lr_init / eta\n",
    "    else : \n",
    "        lr = lr_init\n",
    "    for iter in range(loader.len):\n",
    "        points = SGD_update(points, loader, criterion, mode, lr)\n",
    "    if epoch % 10 == 0:\n",
    "        MAP_score = round(map_score(points, relation_graph, tree_branch_num+1, dist, mode),2)\n",
    "        f = plt.figure(figsize=(7,7))\n",
    "        plt.scatter(points.data.cpu().numpy()[:,0], points.data.cpu().numpy()[:,1], marker = '.', s=size, c=colors)\n",
    "        ax = plt.gca()\n",
    "        lc = mc.LineCollection(points.data[relations].cpu().numpy(), linewidths=0.5)\n",
    "        ax.add_collection(lc)\n",
    "        plt.xlim([-1, 1])\n",
    "        plt.ylim([-1, 1])\n",
    "        plt.text(0.55,0.9,\"MAP score : \" + str(MAP_score))\n",
    "        plt.savefig(f\"gif/hyperbolic/{str(epoch).zfill(4)}.png\")\n",
    "        plt.close()"
   ]
  },
  {
   "cell_type": "code",
   "execution_count": null,
   "metadata": {},
   "outputs": [],
   "source": [
    "path = \"gif/hyperbolic\"\n",
    "img_list = os.listdir(path)\n",
    "img_list = [path + '/' + x for x in img_list]\n",
    "img_list.sort()\n",
    "images = [Image.open(x) for x in img_list]\n",
    "im = images[0]\n",
    "im.save('hyperbolic.gif', save_all=True, append_images=images[1:],loop=0xff, duration=100)"
   ]
  },
  {
   "cell_type": "markdown",
   "metadata": {},
   "source": [
    "- Embed the dataset on $\\mathbb{R}^2$ and save the optimization progress as a gif file named \"euclidean.gif\"."
   ]
  },
  {
   "cell_type": "code",
   "execution_count": null,
   "metadata": {},
   "outputs": [],
   "source": [
    "points = np.random.rand(nodes_num, 2) * 0.001\n",
    "points = Variable(torch.tensor(points, dtype=torch.float32), requires_grad=True)\n",
    "loader = relation_loader(relations, negative_relations, neg_sample_num=50, batch_num=10)\n",
    "train_epoch = 1000\n",
    "lr = 0.1\n",
    "mode = \"Euclidean\"\n",
    "if not os.path.exists('gif/euclidean'):\n",
    "    os.makedirs('gif/euclidean')"
   ]
  },
  {
   "cell_type": "code",
   "execution_count": null,
   "metadata": {},
   "outputs": [],
   "source": [
    "for epoch in range(train_epoch):\n",
    "    for iter in range(loader.len):\n",
    "        points = SGD_update(points, loader, criterion, mode, lr)\n",
    "    if epoch % 10 == 0:\n",
    "        MAP_score = round(map_score(points, relation_graph, tree_branch_num+1, dist, mode),2)\n",
    "        f = plt.figure(figsize=(7,7))\n",
    "        plt.scatter(points.data.cpu().numpy()[:,0], points.data.cpu().numpy()[:,1], marker = '.', s=size, c=colors)\n",
    "        ax = plt.gca()\n",
    "        lc = mc.LineCollection(points.data[relations].cpu().numpy(), linewidths=0.5)\n",
    "        ax.add_collection(lc)\n",
    "        plt.xlim([-10, 10])\n",
    "        plt.ylim([-10, 10])\n",
    "        plt.text(5.5,9.0,\"MAP score : \" + str(MAP_score))\n",
    "        plt.savefig(f\"gif/euclidean/{str(epoch).zfill(4)}.png\")\n",
    "        plt.close()"
   ]
  },
  {
   "cell_type": "code",
   "execution_count": null,
   "metadata": {},
   "outputs": [],
   "source": [
    "path = \"gif/euclidean\"\n",
    "img_list = os.listdir(path)\n",
    "img_list = [path + '/' + x for x in img_list]\n",
    "img_list.sort()\n",
    "images = [Image.open(x) for x in img_list]\n",
    "im = images[0]\n",
    "im.save('euclidean.gif', save_all=True, append_images=images[1:],loop=0xff, duration=100)"
   ]
  },
  {
   "cell_type": "markdown",
   "metadata": {},
   "source": [
    "Q2) Compare the two gif results. Which space looks better for embedding? Which properties do you think make difference?"
   ]
  },
  {
   "cell_type": "markdown",
   "metadata": {},
   "source": [
    "- Reference paper : [\"Poincaré Embeddings for Learning Hierarchical Representations (2017)\"](https://arxiv.org/pdf/1705.08039.pdf)"
   ]
  }
 ],
 "metadata": {
  "kernelspec": {
   "display_name": "Python 3.9.13 ('GM4HDDA')",
   "language": "python",
   "name": "python3"
  },
  "language_info": {
   "codemirror_mode": {
    "name": "ipython",
    "version": 3
   },
   "file_extension": ".py",
   "mimetype": "text/x-python",
   "name": "python",
   "nbconvert_exporter": "python",
   "pygments_lexer": "ipython3",
   "version": "3.8.13"
  },
  "orig_nbformat": 4,
  "vscode": {
   "interpreter": {
    "hash": "1fb749bfe1691104d2411e1fc5a43a8911c8176e71d1b0a5a4fd2193586e7e04"
   }
  }
 },
 "nbformat": 4,
 "nbformat_minor": 2
}
