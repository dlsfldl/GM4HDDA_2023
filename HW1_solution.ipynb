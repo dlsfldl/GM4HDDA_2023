{
 "cells": [
  {
   "cell_type": "code",
   "execution_count": 1,
   "metadata": {},
   "outputs": [],
   "source": [
    "import torch\n",
    "import matplotlib.pyplot as plt\n",
    "\n",
    "# if you don't have gpu, \n",
    "# you can set device='cpu'\n",
    "device = f'cuda:0'"
   ]
  },
  {
   "cell_type": "markdown",
   "metadata": {},
   "source": [
    "- In this exercise, you will train a simple neural network using given matrices ($\\{X_i\\}^N_{i=1}, X_i \\in \\mathbb{R}^{N\\times N}$) and their corresponding vectors ($\\{Y_i\\}^N_{i=1}, Y_i \\in \\mathbb{R}^{N}$)."
   ]
  },
  {
   "cell_type": "markdown",
   "metadata": {},
   "source": [
    "Q1) Load 'Matrices.pt', 'Vectors.pt' in 'data' folder using pytorch library."
   ]
  },
  {
   "cell_type": "code",
   "execution_count": 2,
   "metadata": {},
   "outputs": [],
   "source": [
    "X = torch.load('data/Matrices.pt')\n",
    "Y = torch.load('data/Vectors.pt')"
   ]
  },
  {
   "cell_type": "markdown",
   "metadata": {},
   "source": [
    "Q2) Here, we provide a simple fully connected nueral network. Check the given data, complete the model."
   ]
  },
  {
   "cell_type": "code",
   "execution_count": 3,
   "metadata": {},
   "outputs": [],
   "source": [
    "from models.modules import FC_vec\n",
    "model = FC_vec(\n",
    "    in_chan=4*4,\n",
    "    out_chan=4,\n",
    "    l_hidden=[1024, 1024, 1024],\n",
    "    activation=['relu', 'relu', 'relu'],\n",
    "    out_activation='linear',\n",
    ").to(device)"
   ]
  },
  {
   "cell_type": "markdown",
   "metadata": {},
   "source": [
    "Q3) Define a proper loss function and train the neural network."
   ]
  },
  {
   "cell_type": "code",
   "execution_count": 4,
   "metadata": {},
   "outputs": [
    {
     "name": "stdout",
     "output_type": "stream",
     "text": [
      "41.03360366821289\n",
      "0.5525913238525391\n",
      "0.22641894221305847\n",
      "0.0631512850522995\n"
     ]
    }
   ],
   "source": [
    "num_epoch = 200\n",
    "optimizer = torch.optim.Adam(model.parameters(), lr=0.0001)\n",
    "scheduler = torch.optim.lr_scheduler.CosineAnnealingLR(optimizer,T_max=num_epoch)\n",
    "\n",
    "l_losses = []\n",
    "for epoch in range(num_epoch):\n",
    "    for (x_batch, y_batch) in zip(X.split(100),Y.split(100)):\n",
    "        optimizer.zero_grad()\n",
    "        out = model(x_batch.flatten(start_dim=1))\n",
    "\n",
    "        loss = ((out - y_batch.to(device))**2).mean()\n",
    "\n",
    "        l_losses.append(loss.item())\n",
    "        loss.backward()\n",
    "        optimizer.step()\n",
    "        scheduler.step()\n",
    "    if epoch%50 == 0:\n",
    "        print(loss.item())\n",
    "        "
   ]
  },
  {
   "cell_type": "markdown",
   "metadata": {},
   "source": [
    "- Plot the loss curve."
   ]
  },
  {
   "cell_type": "code",
   "execution_count": 5,
   "metadata": {},
   "outputs": [
    {
     "data": {
      "image/png": "[encoded data removed]",
      "text/plain": [
       "<Figure size 640x480 with 1 Axes>"
      ]
     },
     "metadata": {},
     "output_type": "display_data"
    }
   ],
   "source": [
    "plt.title('loss')\n",
    "plt.xlabel('iters')\n",
    "plt.plot(l_losses)\n",
    "plt.show()"
   ]
  },
  {
   "cell_type": "markdown",
   "metadata": {},
   "source": [
    "- Now, you will transform the given input matrices $X_i$ into $PX_iP^{-1}$ using any nonsingular matrix $P \\in \\mathbb{R}^{N \\times N}$.\n",
    "- You would have learned that the eigenvalues of a matrix remain unchanged when the matrix is multiplied in the aforementioned ways."
   ]
  },
  {
   "cell_type": "markdown",
   "metadata": {},
   "source": [
    "Q4) Check that the eigenvalues of $X_i$ are $Y_i$. (You need to sort the eigenvalues) \n",
    "\n",
    "And check that the eigenvalues of $PX_iP^{-1}$ remain unchanged in comparison to those of X for any matrix $P$."
   ]
  },
  {
   "cell_type": "code",
   "execution_count": 6,
   "metadata": {},
   "outputs": [
    {
     "name": "stdout",
     "output_type": "stream",
     "text": [
      "tensor(0.0002, device='cuda:0')\n"
     ]
    }
   ],
   "source": [
    "X_ev, _ = torch.sort(torch.linalg.eigvals(X).real)\n",
    "print(torch.norm(X_ev - Y))"
   ]
  },
  {
   "cell_type": "code",
   "execution_count": 8,
   "metadata": {},
   "outputs": [
    {
     "name": "stdout",
     "output_type": "stream",
     "text": [
      "tensor(0.0007, device='cuda:0')\n"
     ]
    }
   ],
   "source": [
    "P = torch.rand(4,4).repeat(len(X),1,1).to(device)\n",
    "PXinvP = P@X@torch.linalg.inv(P)\n",
    "PXinvP_ev, _ = torch.sort(torch.linalg.eigvals(PXinvP).real)\n",
    "print(torch.norm(PXinvP_ev - Y))"
   ]
  },
  {
   "cell_type": "markdown",
   "metadata": {},
   "source": [
    "Q5) Using the learned neural network, compare the output of the transformed matrices $PX_iP^{-1}$ with $Y_i$."
   ]
  },
  {
   "cell_type": "code",
   "execution_count": 9,
   "metadata": {},
   "outputs": [
    {
     "name": "stdout",
     "output_type": "stream",
     "text": [
      "tensor(1982.3192, device='cuda:0', grad_fn=<CopyBackwards>)\n"
     ]
    }
   ],
   "source": [
    "output = model(PXinvP.flatten(start_dim=1))\n",
    "print(torch.norm(output - Y))"
   ]
  },
  {
   "cell_type": "markdown",
   "metadata": {},
   "source": [
    "Q6) Interpret the results."
   ]
  },
  {
   "cell_type": "markdown",
   "metadata": {},
   "source": [
    "Neural network can not learn the eigenvalues of the matrices."
   ]
  }
 ],
 "metadata": {
  "kernelspec": {
   "display_name": "HW",
   "language": "python",
   "name": "python3"
  },
  "language_info": {
   "codemirror_mode": {
    "name": "ipython",
    "version": 3
   },
   "file_extension": ".py",
   "mimetype": "text/x-python",
   "name": "python",
   "nbconvert_exporter": "python",
   "pygments_lexer": "ipython3",
   "version": "3.8.16"
  },
  "orig_nbformat": 4
 },
 "nbformat": 4,
 "nbformat_minor": 2
}
