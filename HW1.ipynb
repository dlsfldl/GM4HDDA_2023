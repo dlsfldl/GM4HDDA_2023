{
 "cells": [
  {
   "cell_type": "code",
   "execution_count": null,
   "metadata": {},
   "outputs": [],
   "source": [
    "import torch\n",
    "import matplotlib.pyplot as plt\n",
    "\n",
    "# if you don't have gpu, \n",
    "# you can set device='cpu'\n",
    "device = f'cuda:0'"
   ]
  },
  {
   "cell_type": "markdown",
   "metadata": {},
   "source": [
    "- In this exercise, you will train a simple neural network using given matrices ($\\{X_i\\}^N_{i=1}, X_i \\in \\mathbb{R}^{N\\times N}$) and their corresponding vectors ($\\{Y_i\\}^N_{i=1}, Y_i \\in \\mathbb{R}^{N}$)."
   ]
  },
  {
   "cell_type": "markdown",
   "metadata": {},
   "source": [
    "Q1) Load 'Matrices.pt', 'Vectors.pt' in 'data' folder using pytorch library."
   ]
  },
  {
   "cell_type": "code",
   "execution_count": null,
   "metadata": {},
   "outputs": [],
   "source": [
    "X = \n",
    "Y = "
   ]
  },
  {
   "cell_type": "markdown",
   "metadata": {},
   "source": [
    "Q2) Here, we provide a simple fully connected nueral network. Check the given data, complete the model."
   ]
  },
  {
   "cell_type": "code",
   "execution_count": null,
   "metadata": {},
   "outputs": [],
   "source": [
    "from models.modules import FC_vec\n",
    "model = FC_vec(\n",
    "    in_chan=,\n",
    "    out_chan=,\n",
    "    l_hidden=[1024, 1024, 1024],\n",
    "    activation=['relu', 'relu', 'relu'],\n",
    "    out_activation='linear',\n",
    ").to(device)"
   ]
  },
  {
   "cell_type": "markdown",
   "metadata": {},
   "source": [
    "Q3) Define a proper loss function and train the neural network."
   ]
  },
  {
   "cell_type": "code",
   "execution_count": null,
   "metadata": {},
   "outputs": [],
   "source": [
    "num_epoch = 200\n",
    "optimizer = torch.optim.Adam(model.parameters(), lr=0.0001)\n",
    "scheduler = torch.optim.lr_scheduler.CosineAnnealingLR(optimizer,T_max=num_epoch)\n",
    "\n",
    "l_losses = []\n",
    "for epoch in range(num_epoch):\n",
    "    for (x_batch, y_batch) in zip(X.split(100),Y.split(100)):\n",
    "        optimizer.zero_grad()\n",
    "        out = model(x_batch.flatten(start_dim=1))\n",
    "\n",
    "        loss = \n",
    "\n",
    "        l_losses.append(loss.item())\n",
    "        loss.backward()\n",
    "        optimizer.step()\n",
    "        scheduler.step()\n",
    "    if epoch%50 == 0:\n",
    "        print(loss.item())\n",
    "        "
   ]
  },
  {
   "cell_type": "markdown",
   "metadata": {},
   "source": [
    "- Plot the loss curve."
   ]
  },
  {
   "cell_type": "code",
   "execution_count": null,
   "metadata": {},
   "outputs": [],
   "source": [
    "plt.title('loss')\n",
    "plt.xlabel('iters')\n",
    "plt.plot(l_losses)\n",
    "plt.show()"
   ]
  },
  {
   "cell_type": "markdown",
   "metadata": {},
   "source": [
    "- Now, you will transform the given input matrices $X_i$ into $PX_iP^{-1}$ using any nonsingular matrix $P \\in \\mathbb{R}^{N \\times N}$.\n",
    "- You would have learned that the eigenvalues of a matrix remain unchanged when the matrix is multiplied in the aforementioned ways."
   ]
  },
  {
   "cell_type": "markdown",
   "metadata": {},
   "source": [
    "Q4) Check that the eigenvalues of $X_i$ are $Y_i$. (You need to sort the eigenvalues) \n",
    "\n",
    "And check that the eigenvalues of $PX_iP^{-1}$ remain unchanged in comparison to those of X for any matrix $P$."
   ]
  },
  {
   "cell_type": "code",
   "execution_count": null,
   "metadata": {},
   "outputs": [],
   "source": [
    "X_ev = \n",
    "print(torch.norm(X_ev - Y))"
   ]
  },
  {
   "cell_type": "code",
   "execution_count": null,
   "metadata": {},
   "outputs": [],
   "source": [
    "P = torch.rand(4,4).repeat(len(X),1,1).to(device)\n",
    "PXinvP = \n",
    "PXinvP_ev = \n",
    "print(torch.norm(PXinvP_ev - Y))"
   ]
  },
  {
   "cell_type": "markdown",
   "metadata": {},
   "source": [
    "Q5) Using the learned neural network, compare the output of the transformed matrices $PX_iP^{-1}$ with $Y_i$."
   ]
  },
  {
   "cell_type": "code",
   "execution_count": null,
   "metadata": {},
   "outputs": [],
   "source": [
    "output = \n",
    "print(torch.norm(output - Y))"
   ]
  },
  {
   "cell_type": "markdown",
   "metadata": {},
   "source": [
    "Q6) Interpret the results."
   ]
  },
  {
   "cell_type": "code",
   "execution_count": null,
   "metadata": {},
   "outputs": [],
   "source": []
  },
  {
   "cell_type": "markdown",
   "metadata": {},
   "source": [
    "Q7) Assuming you have curve time series data ($\\{X_i \\}^D_{i=1} = \\{x_{i,1}, \\dots, x_{i,T}\\}^D_{i=1}, x_{i,t} \\in \\mathbb{R}^{N}$), suggest an algorithm for comparing these curves using the shapes of them.\n",
    "\n",
    "There is no need to write a code, just present your idea."
   ]
  },
  {
   "cell_type": "code",
   "execution_count": null,
   "metadata": {},
   "outputs": [],
   "source": []
  }
 ],
 "metadata": {
  "kernelspec": {
   "display_name": "HW",
   "language": "python",
   "name": "python3"
  },
  "language_info": {
   "codemirror_mode": {
    "name": "ipython",
    "version": 3
   },
   "file_extension": ".py",
   "mimetype": "text/x-python",
   "name": "python",
   "nbconvert_exporter": "python",
   "pygments_lexer": "ipython3",
   "version": "3.9.16"
  },
  "orig_nbformat": 4
 },
 "nbformat": 4,
 "nbformat_minor": 2
}
